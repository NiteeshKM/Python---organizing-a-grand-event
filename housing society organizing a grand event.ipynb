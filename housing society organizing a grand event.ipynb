{
 "cells": [
  {
   "cell_type": "markdown",
   "id": "186c24ed",
   "metadata": {},
   "source": [
    "Task 1: Data Loading and Overview"
   ]
  },
  {
   "cell_type": "code",
   "execution_count": 1,
   "id": "324024e7",
   "metadata": {},
   "outputs": [],
   "source": [
    "import numpy as np\n",
    "\n",
    "import pandas as pd\n",
    "\n",
    "import matplotlib.pyplot as plt\n",
    "\n",
    "import seaborn as sns"
   ]
  },
  {
   "cell_type": "code",
   "execution_count": 2,
   "id": "ca231339",
   "metadata": {},
   "outputs": [],
   "source": [
    "df = pd.read_csv('Final_Data.csv')"
   ]
  },
  {
   "cell_type": "code",
   "execution_count": 3,
   "id": "10e39af1",
   "metadata": {},
   "outputs": [
    {
     "name": "stdout",
     "output_type": "stream",
     "text": [
      "First few rows of the DataFrame:\n",
      "   Unnamed: 0  Flat no Wing Owner Name Owner's Spouse Name No of Resident  \\\n",
      "0           0      101    A      Omkar                   -              4   \n",
      "1           1      102    A    Bhavana                   -              5   \n",
      "2           2      103    A     Govind                   -              5   \n",
      "3           3      201    A      Reena                   -              4   \n",
      "4           4      202    A   Karishma                   -              7   \n",
      "\n",
      "  Confirmed Members Origin of Owner  Flat Area (sq.mt)  No of Room  \\\n",
      "0                 4     Maharashtra                500           2   \n",
      "1                 6       Bangalore                500           2   \n",
      "2                 3       Rajasthan                500           2   \n",
      "3                 2  Madhya Pradesh                550           2   \n",
      "4                15         Gujurat                600           3   \n",
      "\n",
      "  Tenant or owner Maintenance Amt Availlability of owner Flat Vacancy  \\\n",
      "0           Owner            6000                    Yes        Owned   \n",
      "1           Owner            6000                    Yes        Owned   \n",
      "2           Owner            6000                    Yes        Owned   \n",
      "3          Tenant            6000                     No        Owned   \n",
      "4           Owner            7000                     No        Owned   \n",
      "\n",
      "   Donation  \n",
      "0    2500.0  \n",
      "1   10000.0  \n",
      "2    1500.0  \n",
      "3       NaN  \n",
      "4    2500.0  \n"
     ]
    }
   ],
   "source": [
    "# Display the first few rows of the DataFrame to get an overview of the data\n",
    "\n",
    "print(\"First few rows of the DataFrame:\")\n",
    "\n",
    "print(df.head())"
   ]
  },
  {
   "cell_type": "code",
   "execution_count": 4,
   "id": "a3fd0b8a",
   "metadata": {},
   "outputs": [
    {
     "name": "stdout",
     "output_type": "stream",
     "text": [
      "\n",
      "Data types and missing values:\n",
      "<class 'pandas.core.frame.DataFrame'>\n",
      "RangeIndex: 60 entries, 0 to 59\n",
      "Data columns (total 15 columns):\n",
      " #   Column                  Non-Null Count  Dtype  \n",
      "---  ------                  --------------  -----  \n",
      " 0   Unnamed: 0              60 non-null     int64  \n",
      " 1   Flat no                 60 non-null     int64  \n",
      " 2   Wing                    60 non-null     object \n",
      " 3   Owner Name              60 non-null     object \n",
      " 4   Owner's Spouse Name     18 non-null     object \n",
      " 5   No of Resident          60 non-null     object \n",
      " 6   Confirmed Members       60 non-null     object \n",
      " 7   Origin of Owner         60 non-null     object \n",
      " 8   Flat Area (sq.mt)       60 non-null     int64  \n",
      " 9   No of Room              60 non-null     int64  \n",
      " 10  Tenant or owner         60 non-null     object \n",
      " 11  Maintenance Amt         32 non-null     object \n",
      " 12  Availlability of owner  60 non-null     object \n",
      " 13  Flat Vacancy            43 non-null     object \n",
      " 14  Donation                55 non-null     float64\n",
      "dtypes: float64(1), int64(4), object(10)\n",
      "memory usage: 7.2+ KB\n",
      "None\n"
     ]
    }
   ],
   "source": [
    "# Check the data types and missing values in each column\n",
    "\n",
    "print(\"\\nData types and missing values:\")\n",
    "\n",
    "print(df.info())"
   ]
  },
  {
   "cell_type": "code",
   "execution_count": 5,
   "id": "7c6e187b",
   "metadata": {},
   "outputs": [
    {
     "name": "stdout",
     "output_type": "stream",
     "text": [
      "\n",
      "Summary statistics for numeric columns:\n",
      "       Unnamed: 0      Flat no  Flat Area (sq.mt)  No of Room      Donation\n",
      "count   60.000000    60.000000          60.000000   60.000000     55.000000\n",
      "mean    29.500000   552.000000         554.166667    2.416667   4136.363636\n",
      "std     17.464249   289.653212          43.464057    0.497167   3228.138073\n",
      "min      0.000000   101.000000         500.000000    2.000000   1000.000000\n",
      "25%     14.750000   302.000000         500.000000    2.000000   1500.000000\n",
      "50%     29.500000   552.000000         550.000000    2.000000   2500.000000\n",
      "75%     44.250000   802.000000         600.000000    3.000000   6000.000000\n",
      "max     59.000000  1003.000000         600.000000    3.000000  10000.000000\n"
     ]
    }
   ],
   "source": [
    "# Get summary statistics for numeric columns\n",
    "\n",
    "print(\"\\nSummary statistics for numeric columns:\")\n",
    "\n",
    "print(df.describe())"
   ]
  },
  {
   "cell_type": "code",
   "execution_count": 6,
   "id": "12a692de",
   "metadata": {},
   "outputs": [
    {
     "name": "stdout",
     "output_type": "stream",
     "text": [
      "\n",
      "Number of unique values in each column:\n",
      "Unnamed: 0                60\n",
      "Flat no                   30\n",
      "Wing                       2\n",
      "Owner Name                51\n",
      "Owner's Spouse Name       12\n",
      "No of Resident             9\n",
      "Confirmed Members         14\n",
      "Origin of Owner           17\n",
      "Flat Area (sq.mt)          3\n",
      "No of Room                 2\n",
      "Tenant or owner            4\n",
      "Maintenance Amt            4\n",
      "Availlability of owner     3\n",
      "Flat Vacancy               3\n",
      "Donation                   6\n",
      "dtype: int64\n"
     ]
    }
   ],
   "source": [
    "# Count the number of unique values in each column\n",
    "\n",
    "print(\"\\nNumber of unique values in each column:\")\n",
    "\n",
    "print(df.nunique())"
   ]
  },
  {
   "cell_type": "code",
   "execution_count": 7,
   "id": "1c0a36e4",
   "metadata": {},
   "outputs": [
    {
     "name": "stdout",
     "output_type": "stream",
     "text": [
      "\n",
      "Check unique values in Unnamed: 0 column:\n",
      "[ 0  1  2  3  4  5  6  7  8  9 10 11 12 13 14 15 16 17 18 19 20 21 22 23\n",
      " 24 25 26 27 28 29 30 31 32 33 34 35 36 37 38 39 40 41 42 43 44 45 46 47\n",
      " 48 49 50 51 52 53 54 55 56 57 58 59]\n",
      "\n",
      "Check unique values in Flat no column:\n",
      "[ 101  102  103  201  202  203  301  302  303  401  402  403  501  502\n",
      "  503  601  602  603  701  702  703  801  802  803  901  902  903 1001\n",
      " 1002 1003]\n",
      "\n",
      "Check unique values in Wing column:\n",
      "['A' 'B']\n",
      "\n",
      "Check unique values in Owner Name column:\n",
      "['Omkar' 'Bhavana' 'Govind' 'Reena' 'Karishma' 'Ragesh' 'Harshad' 'Abdul'\n",
      " 'Lohit' 'Vijay' 'Praveen' 'Arjun' 'Priya' 'Ravi' 'Deepak' 'Nandini'\n",
      " 'Nisha' 'Sunil' 'Priyanka' 'Rahul' 'Anjali' 'Aman' 'alok' 'Pooja' 'Anil'\n",
      " 'Simran' 'mayuri' 'Naveen' 'Anju' 'Vivek' 'tanmay' 'Rohit' 'Ankita'\n",
      " 'Suresh' 'omi' 'Karan' 'Neha' 'Sameer' 'shilpa' 'Romil' 'Sachin' 'Amit'\n",
      " 'abdul' 'Gaurav' 'Ashish' 'Lokesh' 'Mahesh' 'yash' 'rasika' 'Shivam'\n",
      " 'Vikas']\n",
      "\n",
      "Check unique values in Owner's Spouse Name column:\n",
      "['-' 'Parul' nan 'Shashi' 'Sneha' 'Nisha' 'Raghav' 'Vimesh' 'Chanda'\n",
      " 'Deeksha' 'Ekta' 'Anjali' 'Suman']\n",
      "\n",
      "Check unique values in No of Resident column:\n",
      "['4' '5' '7' '8' '-' '3' '6' '2' '1']\n",
      "\n",
      "Check unique values in Confirmed Members column:\n",
      "['4' '6' '3' '2' '15' '8' '20' '-' '1' '11' '9' '0' '7' '5']\n",
      "\n",
      "Check unique values in Origin of Owner column:\n",
      "['Maharashtra' 'Bangalore' 'Rajasthan' 'Madhya Pradesh' 'Gujurat' 'Kerala'\n",
      " 'Gujarat' 'Tamil Nadu' 'Karnataka' 'Uttar Pradesh' 'Delhi' 'Haryana'\n",
      " 'Punjab' 'Andhra Pradesh' '-' 'Kashmir' 'Assam']\n",
      "\n",
      "Check unique values in Flat Area (sq.mt) column:\n",
      "[500 550 600]\n",
      "\n",
      "Check unique values in No of Room column:\n",
      "[2 3]\n",
      "\n",
      "Check unique values in Tenant or owner column:\n",
      "['Owner' 'Tenant' 'tenant' 'owner']\n",
      "\n",
      "Check unique values in Maintenance Amt column:\n",
      "['6000' '7000' '5500' '-' nan]\n",
      "\n",
      "Check unique values in Availlability of owner column:\n",
      "['Yes' 'No' '-']\n",
      "\n",
      "Check unique values in Flat Vacancy column:\n",
      "['Owned' 'Vacant' '-' nan]\n",
      "\n",
      "Check unique values in Donation column:\n",
      "[ 2500. 10000.  1500.    nan  5000.  1000.  6000.]\n"
     ]
    }
   ],
   "source": [
    "# Check the unique values in each column\n",
    "\n",
    "for i in df.columns:\n",
    "    \n",
    "    print(f\"\\nCheck unique values in {i} column:\")\n",
    "\n",
    "    print(df[i].unique())"
   ]
  },
  {
   "cell_type": "code",
   "execution_count": 8,
   "id": "8d8dbd6e",
   "metadata": {},
   "outputs": [
    {
     "name": "stdout",
     "output_type": "stream",
     "text": [
      "\n",
      "Missing values count in each column:\n",
      "Unnamed: 0                 0\n",
      "Flat no                    0\n",
      "Wing                       0\n",
      "Owner Name                 0\n",
      "Owner's Spouse Name       42\n",
      "No of Resident             0\n",
      "Confirmed Members          0\n",
      "Origin of Owner            0\n",
      "Flat Area (sq.mt)          0\n",
      "No of Room                 0\n",
      "Tenant or owner            0\n",
      "Maintenance Amt           28\n",
      "Availlability of owner     0\n",
      "Flat Vacancy              17\n",
      "Donation                   5\n",
      "dtype: int64\n"
     ]
    }
   ],
   "source": [
    "# Check for missing values in the DataFrame\n",
    "\n",
    "print(\"\\nMissing values count in each column:\")\n",
    "\n",
    "print(df.isnull().sum())"
   ]
  },
  {
   "cell_type": "code",
   "execution_count": 10,
   "id": "af048b8b",
   "metadata": {},
   "outputs": [
    {
     "name": "stdout",
     "output_type": "stream",
     "text": [
      "Duplicate values count in the Dataframe:\n",
      "0\n"
     ]
    }
   ],
   "source": [
    "# Check for Duplicate values in the DataFrame\n",
    "\n",
    "print(\"Duplicate values count in the Dataframe:\")\n",
    "\n",
    "print(df.duplicated().sum())"
   ]
  },
  {
   "cell_type": "code",
   "execution_count": null,
   "id": "07e40ef6",
   "metadata": {},
   "outputs": [],
   "source": []
  },
  {
   "cell_type": "markdown",
   "id": "89fbd78b",
   "metadata": {},
   "source": [
    "Task 2: Data Cleaning"
   ]
  },
  {
   "cell_type": "code",
   "execution_count": 11,
   "id": "aebf9682",
   "metadata": {},
   "outputs": [],
   "source": [
    "# Replace \"_\" with NaN in the entire DataFrame\n",
    "\n",
    "df.replace('-', np.nan, inplace=True)"
   ]
  },
  {
   "cell_type": "code",
   "execution_count": 12,
   "id": "e52e8f97",
   "metadata": {},
   "outputs": [
    {
     "name": "stdout",
     "output_type": "stream",
     "text": [
      "Unnamed: 0                 0.000000\n",
      "Flat no                    0.000000\n",
      "Wing                       0.000000\n",
      "Owner Name                 0.000000\n",
      "Owner's Spouse Name       81.666667\n",
      "No of Resident             6.666667\n",
      "Confirmed Members          6.666667\n",
      "Origin of Owner            1.666667\n",
      "Flat Area (sq.mt)          0.000000\n",
      "No of Room                 0.000000\n",
      "Tenant or owner            0.000000\n",
      "Maintenance Amt           48.333333\n",
      "Availlability of owner     1.666667\n",
      "Flat Vacancy              30.000000\n",
      "Donation                   8.333333\n",
      "dtype: float64\n"
     ]
    }
   ],
   "source": [
    "# check for missing values after replacing - with null values in the Data Frame\n",
    "\n",
    "print(df.isnull().sum() *100 /df.shape[0])"
   ]
  },
  {
   "cell_type": "code",
   "execution_count": 13,
   "id": "209aac87",
   "metadata": {},
   "outputs": [],
   "source": [
    "# Drop the unwanted column from the data frame\n",
    "\n",
    "df.drop(['Unnamed: 0','Owner\\'s Spouse Name'], axis = 1, inplace = True)"
   ]
  },
  {
   "cell_type": "code",
   "execution_count": 14,
   "id": "46423ff4",
   "metadata": {},
   "outputs": [],
   "source": [
    "# Data Type Conversion\n",
    "\n",
    "# Convert \"No of Resident\" and \"Confirmed Members\" to numeric (assuming they should be numeric)\n",
    "\n",
    "df['No of Resident'] = pd.to_numeric(df['No of Resident'], errors='coerce')  # Convert to numeric, converting errors to NaN\n",
    "\n",
    "df['Confirmed Members'] = pd.to_numeric(df['Confirmed Members'], errors='coerce')  # Convert to numeric, converting errors to NaN"
   ]
  },
  {
   "cell_type": "code",
   "execution_count": 15,
   "id": "442ea30b",
   "metadata": {},
   "outputs": [],
   "source": [
    "# Convert \"Maintenance Amt\" to numeric and handle missing values\n",
    "\n",
    "df['Maintenance Amt'] = pd.to_numeric(df['Maintenance Amt'], errors='coerce')  # Convert to numeric, converting errors to NaN"
   ]
  },
  {
   "cell_type": "code",
   "execution_count": 18,
   "id": "365a606b",
   "metadata": {},
   "outputs": [],
   "source": [
    "# Impute missing values in 'Flat Vacancy' column with the median\n",
    "\n",
    "df['Flat Vacancy'].fillna(df.apply(lambda row: 'Owned' if row['Availlability of owner'] == 'Yes' else 'Vacant', axis=1), inplace=True)"
   ]
  },
  {
   "cell_type": "code",
   "execution_count": 20,
   "id": "4eadbfc1",
   "metadata": {},
   "outputs": [],
   "source": [
    "# Impute missing values in 'Donation' column with the median\n",
    "\n",
    "df['Donation'].fillna(df['Donation'].median(), inplace=True)\n",
    "\n",
    "# Impute missing values in 'No of Resident' column with the median\n",
    "\n",
    "df['No of Resident'].fillna(df['No of Resident'].median(), inplace=True)\n",
    "\n",
    "# Impute missing values in 'Confirmed Members' column with the median\n",
    "\n",
    "df['Confirmed Members'].fillna(df['Confirmed Members'].median(), inplace=True)\n",
    "\n",
    "# Impute 'Availability of owner' missing values with mode\n",
    "\n",
    "mode_availability = df['Availlability of owner'].mode()[0]\n",
    "\n",
    "df['Availlability of owner'].fillna(mode_availability, inplace=True)\n",
    "\n",
    "# Impute 'Origin of Owner' missing values with mode\n",
    "\n",
    "mode_origin = df['Origin of Owner'].mode()[0]\n",
    "\n",
    "df['Origin of Owner'].fillna(mode_origin, inplace=True)"
   ]
  },
  {
   "cell_type": "code",
   "execution_count": 21,
   "id": "d73f50a5",
   "metadata": {},
   "outputs": [
    {
     "name": "stdout",
     "output_type": "stream",
     "text": [
      "Flat no                    0.000000\n",
      "Wing                       0.000000\n",
      "Owner Name                 0.000000\n",
      "No of Resident             0.000000\n",
      "Confirmed Members          0.000000\n",
      "Origin of Owner            0.000000\n",
      "Flat Area (sq.mt)          0.000000\n",
      "No of Room                 0.000000\n",
      "Tenant or owner            0.000000\n",
      "Maintenance Amt           48.333333\n",
      "Availlability of owner     0.000000\n",
      "Flat Vacancy               0.000000\n",
      "Donation                   0.000000\n",
      "dtype: float64\n"
     ]
    }
   ],
   "source": [
    "# Print the DataFrame with missing values imputed\n",
    "\n",
    "\n",
    "print(df.isnull().sum() *100 /df.shape[0])"
   ]
  },
  {
   "cell_type": "code",
   "execution_count": null,
   "id": "ac8edf14",
   "metadata": {},
   "outputs": [],
   "source": []
  },
  {
   "cell_type": "code",
   "execution_count": null,
   "id": "d8542015",
   "metadata": {},
   "outputs": [],
   "source": []
  },
  {
   "cell_type": "markdown",
   "id": "97149887",
   "metadata": {},
   "source": [
    "Task 3: Data Preparation and Preprocessing"
   ]
  },
  {
   "cell_type": "code",
   "execution_count": 22,
   "id": "ffe46c7c",
   "metadata": {},
   "outputs": [],
   "source": [
    "# Calculate the difference between \"No of Resident\" and \"Confirmed Members\" columns\n",
    "\n",
    "df['Outsiders'] = df['Confirmed Members'] - df['No of Resident']"
   ]
  },
  {
   "cell_type": "code",
   "execution_count": 23,
   "id": "3b6d6cef",
   "metadata": {},
   "outputs": [],
   "source": [
    "# If the difference is greater than zero, set the value to 1 (outsider), otherwise set it to 0 (resident)\n",
    "\n",
    "df['Outsiders'] = df['Outsiders'].apply(lambda x: x if x > 0 else 0)"
   ]
  },
  {
   "cell_type": "code",
   "execution_count": 24,
   "id": "5cef3858",
   "metadata": {},
   "outputs": [
    {
     "data": {
      "text/html": [
       "<div>\n",
       "<style scoped>\n",
       "    .dataframe tbody tr th:only-of-type {\n",
       "        vertical-align: middle;\n",
       "    }\n",
       "\n",
       "    .dataframe tbody tr th {\n",
       "        vertical-align: top;\n",
       "    }\n",
       "\n",
       "    .dataframe thead th {\n",
       "        text-align: right;\n",
       "    }\n",
       "</style>\n",
       "<table border=\"1\" class=\"dataframe\">\n",
       "  <thead>\n",
       "    <tr style=\"text-align: right;\">\n",
       "      <th></th>\n",
       "      <th>Flat no</th>\n",
       "      <th>Wing</th>\n",
       "      <th>Owner Name</th>\n",
       "      <th>No of Resident</th>\n",
       "      <th>Confirmed Members</th>\n",
       "      <th>Origin of Owner</th>\n",
       "      <th>Flat Area (sq.mt)</th>\n",
       "      <th>No of Room</th>\n",
       "      <th>Tenant or owner</th>\n",
       "      <th>Maintenance Amt</th>\n",
       "      <th>Availlability of owner</th>\n",
       "      <th>Flat Vacancy</th>\n",
       "      <th>Donation</th>\n",
       "      <th>Outsiders</th>\n",
       "    </tr>\n",
       "  </thead>\n",
       "  <tbody>\n",
       "    <tr>\n",
       "      <th>0</th>\n",
       "      <td>101</td>\n",
       "      <td>A</td>\n",
       "      <td>Omkar</td>\n",
       "      <td>4.0</td>\n",
       "      <td>4.0</td>\n",
       "      <td>Maharashtra</td>\n",
       "      <td>500</td>\n",
       "      <td>2</td>\n",
       "      <td>Owner</td>\n",
       "      <td>6000.0</td>\n",
       "      <td>Yes</td>\n",
       "      <td>Owned</td>\n",
       "      <td>2500.0</td>\n",
       "      <td>0.0</td>\n",
       "    </tr>\n",
       "    <tr>\n",
       "      <th>1</th>\n",
       "      <td>102</td>\n",
       "      <td>A</td>\n",
       "      <td>Bhavana</td>\n",
       "      <td>5.0</td>\n",
       "      <td>6.0</td>\n",
       "      <td>Bangalore</td>\n",
       "      <td>500</td>\n",
       "      <td>2</td>\n",
       "      <td>Owner</td>\n",
       "      <td>6000.0</td>\n",
       "      <td>Yes</td>\n",
       "      <td>Owned</td>\n",
       "      <td>10000.0</td>\n",
       "      <td>1.0</td>\n",
       "    </tr>\n",
       "    <tr>\n",
       "      <th>2</th>\n",
       "      <td>103</td>\n",
       "      <td>A</td>\n",
       "      <td>Govind</td>\n",
       "      <td>5.0</td>\n",
       "      <td>3.0</td>\n",
       "      <td>Rajasthan</td>\n",
       "      <td>500</td>\n",
       "      <td>2</td>\n",
       "      <td>Owner</td>\n",
       "      <td>6000.0</td>\n",
       "      <td>Yes</td>\n",
       "      <td>Owned</td>\n",
       "      <td>1500.0</td>\n",
       "      <td>0.0</td>\n",
       "    </tr>\n",
       "    <tr>\n",
       "      <th>3</th>\n",
       "      <td>201</td>\n",
       "      <td>A</td>\n",
       "      <td>Reena</td>\n",
       "      <td>4.0</td>\n",
       "      <td>2.0</td>\n",
       "      <td>Madhya Pradesh</td>\n",
       "      <td>550</td>\n",
       "      <td>2</td>\n",
       "      <td>Tenant</td>\n",
       "      <td>6000.0</td>\n",
       "      <td>No</td>\n",
       "      <td>Owned</td>\n",
       "      <td>2500.0</td>\n",
       "      <td>0.0</td>\n",
       "    </tr>\n",
       "    <tr>\n",
       "      <th>4</th>\n",
       "      <td>202</td>\n",
       "      <td>A</td>\n",
       "      <td>Karishma</td>\n",
       "      <td>7.0</td>\n",
       "      <td>15.0</td>\n",
       "      <td>Gujurat</td>\n",
       "      <td>600</td>\n",
       "      <td>3</td>\n",
       "      <td>Owner</td>\n",
       "      <td>7000.0</td>\n",
       "      <td>No</td>\n",
       "      <td>Owned</td>\n",
       "      <td>2500.0</td>\n",
       "      <td>8.0</td>\n",
       "    </tr>\n",
       "  </tbody>\n",
       "</table>\n",
       "</div>"
      ],
      "text/plain": [
       "   Flat no Wing Owner Name  No of Resident  Confirmed Members Origin of Owner  \\\n",
       "0      101    A      Omkar             4.0                4.0     Maharashtra   \n",
       "1      102    A    Bhavana             5.0                6.0       Bangalore   \n",
       "2      103    A     Govind             5.0                3.0       Rajasthan   \n",
       "3      201    A      Reena             4.0                2.0  Madhya Pradesh   \n",
       "4      202    A   Karishma             7.0               15.0         Gujurat   \n",
       "\n",
       "   Flat Area (sq.mt)  No of Room Tenant or owner  Maintenance Amt  \\\n",
       "0                500           2           Owner           6000.0   \n",
       "1                500           2           Owner           6000.0   \n",
       "2                500           2           Owner           6000.0   \n",
       "3                550           2          Tenant           6000.0   \n",
       "4                600           3           Owner           7000.0   \n",
       "\n",
       "  Availlability of owner Flat Vacancy  Donation  Outsiders  \n",
       "0                    Yes        Owned    2500.0        0.0  \n",
       "1                    Yes        Owned   10000.0        1.0  \n",
       "2                    Yes        Owned    1500.0        0.0  \n",
       "3                     No        Owned    2500.0        0.0  \n",
       "4                     No        Owned    2500.0        8.0  "
      ]
     },
     "execution_count": 24,
     "metadata": {},
     "output_type": "execute_result"
    }
   ],
   "source": [
    "# Display the DataFrame with the new \"Outsiders\" column\n",
    "\n",
    "df.head()"
   ]
  },
  {
   "cell_type": "code",
   "execution_count": 26,
   "id": "dd641667",
   "metadata": {},
   "outputs": [],
   "source": [
    "# Standardize 'Tenant or owner' column values (assuming it should be lowercase)\n",
    "\n",
    "df['Tenant or owner'] = df['Tenant or owner'].str.lower()\n",
    "\n",
    "\n",
    "# Standardize 'Availability of owner' column values (assuming it should be lowercase)\n",
    "\n",
    "df['Availlability of owner'] = df['Availlability of owner'].str.lower()\n",
    "\n",
    "\n",
    "# Standardize 'Flat Vacancy' column values (assuming it should be lowercase)\n",
    "\n",
    "df['Flat Vacancy'] = df['Flat Vacancy'].str.lower()"
   ]
  },
  {
   "cell_type": "code",
   "execution_count": 27,
   "id": "e1b575cd",
   "metadata": {},
   "outputs": [
    {
     "data": {
      "text/html": [
       "<div>\n",
       "<style scoped>\n",
       "    .dataframe tbody tr th:only-of-type {\n",
       "        vertical-align: middle;\n",
       "    }\n",
       "\n",
       "    .dataframe tbody tr th {\n",
       "        vertical-align: top;\n",
       "    }\n",
       "\n",
       "    .dataframe thead th {\n",
       "        text-align: right;\n",
       "    }\n",
       "</style>\n",
       "<table border=\"1\" class=\"dataframe\">\n",
       "  <thead>\n",
       "    <tr style=\"text-align: right;\">\n",
       "      <th></th>\n",
       "      <th>Flat no</th>\n",
       "      <th>Wing</th>\n",
       "      <th>Owner Name</th>\n",
       "      <th>No of Resident</th>\n",
       "      <th>Confirmed Members</th>\n",
       "      <th>Origin of Owner</th>\n",
       "      <th>Flat Area (sq.mt)</th>\n",
       "      <th>No of Room</th>\n",
       "      <th>Tenant or owner</th>\n",
       "      <th>Maintenance Amt</th>\n",
       "      <th>Availlability of owner</th>\n",
       "      <th>Flat Vacancy</th>\n",
       "      <th>Donation</th>\n",
       "      <th>Outsiders</th>\n",
       "    </tr>\n",
       "  </thead>\n",
       "  <tbody>\n",
       "    <tr>\n",
       "      <th>0</th>\n",
       "      <td>101</td>\n",
       "      <td>A</td>\n",
       "      <td>Omkar</td>\n",
       "      <td>4.0</td>\n",
       "      <td>4.0</td>\n",
       "      <td>maharashtra</td>\n",
       "      <td>500</td>\n",
       "      <td>2</td>\n",
       "      <td>owner</td>\n",
       "      <td>6000.0</td>\n",
       "      <td>yes</td>\n",
       "      <td>owned</td>\n",
       "      <td>2500.0</td>\n",
       "      <td>0.0</td>\n",
       "    </tr>\n",
       "    <tr>\n",
       "      <th>1</th>\n",
       "      <td>102</td>\n",
       "      <td>A</td>\n",
       "      <td>Bhavana</td>\n",
       "      <td>5.0</td>\n",
       "      <td>6.0</td>\n",
       "      <td>bangalore</td>\n",
       "      <td>500</td>\n",
       "      <td>2</td>\n",
       "      <td>owner</td>\n",
       "      <td>6000.0</td>\n",
       "      <td>yes</td>\n",
       "      <td>owned</td>\n",
       "      <td>10000.0</td>\n",
       "      <td>1.0</td>\n",
       "    </tr>\n",
       "    <tr>\n",
       "      <th>2</th>\n",
       "      <td>103</td>\n",
       "      <td>A</td>\n",
       "      <td>Govind</td>\n",
       "      <td>5.0</td>\n",
       "      <td>3.0</td>\n",
       "      <td>rajasthan</td>\n",
       "      <td>500</td>\n",
       "      <td>2</td>\n",
       "      <td>owner</td>\n",
       "      <td>6000.0</td>\n",
       "      <td>yes</td>\n",
       "      <td>owned</td>\n",
       "      <td>1500.0</td>\n",
       "      <td>0.0</td>\n",
       "    </tr>\n",
       "    <tr>\n",
       "      <th>3</th>\n",
       "      <td>201</td>\n",
       "      <td>A</td>\n",
       "      <td>Reena</td>\n",
       "      <td>4.0</td>\n",
       "      <td>2.0</td>\n",
       "      <td>madhya pradesh</td>\n",
       "      <td>550</td>\n",
       "      <td>2</td>\n",
       "      <td>tenant</td>\n",
       "      <td>6000.0</td>\n",
       "      <td>no</td>\n",
       "      <td>owned</td>\n",
       "      <td>2500.0</td>\n",
       "      <td>0.0</td>\n",
       "    </tr>\n",
       "    <tr>\n",
       "      <th>4</th>\n",
       "      <td>202</td>\n",
       "      <td>A</td>\n",
       "      <td>Karishma</td>\n",
       "      <td>7.0</td>\n",
       "      <td>15.0</td>\n",
       "      <td>gujurat</td>\n",
       "      <td>600</td>\n",
       "      <td>3</td>\n",
       "      <td>owner</td>\n",
       "      <td>7000.0</td>\n",
       "      <td>no</td>\n",
       "      <td>owned</td>\n",
       "      <td>2500.0</td>\n",
       "      <td>8.0</td>\n",
       "    </tr>\n",
       "  </tbody>\n",
       "</table>\n",
       "</div>"
      ],
      "text/plain": [
       "   Flat no Wing Owner Name  No of Resident  Confirmed Members Origin of Owner  \\\n",
       "0      101    A      Omkar             4.0                4.0     maharashtra   \n",
       "1      102    A    Bhavana             5.0                6.0       bangalore   \n",
       "2      103    A     Govind             5.0                3.0       rajasthan   \n",
       "3      201    A      Reena             4.0                2.0  madhya pradesh   \n",
       "4      202    A   Karishma             7.0               15.0         gujurat   \n",
       "\n",
       "   Flat Area (sq.mt)  No of Room Tenant or owner  Maintenance Amt  \\\n",
       "0                500           2           owner           6000.0   \n",
       "1                500           2           owner           6000.0   \n",
       "2                500           2           owner           6000.0   \n",
       "3                550           2          tenant           6000.0   \n",
       "4                600           3           owner           7000.0   \n",
       "\n",
       "  Availlability of owner Flat Vacancy  Donation  Outsiders  \n",
       "0                    yes        owned    2500.0        0.0  \n",
       "1                    yes        owned   10000.0        1.0  \n",
       "2                    yes        owned    1500.0        0.0  \n",
       "3                     no        owned    2500.0        0.0  \n",
       "4                     no        owned    2500.0        8.0  "
      ]
     },
     "execution_count": 27,
     "metadata": {},
     "output_type": "execute_result"
    }
   ],
   "source": [
    "# Ensure 'Origin of Owner' column values are consistent (assuming it should be lowercase)\n",
    "\n",
    "df['Origin of Owner'] = df['Origin of Owner'].str.lower()\n",
    "\n",
    "\n",
    "# Standardize 'Owner Name column values (assuming it should be title)\n",
    "\n",
    "df['Owner Name'] = df['Owner Name'].str.title()\n",
    "\n",
    "\n",
    "#Display the dataset\n",
    "\n",
    "df.head()"
   ]
  },
  {
   "cell_type": "code",
   "execution_count": null,
   "id": "0bb59965",
   "metadata": {},
   "outputs": [],
   "source": []
  },
  {
   "cell_type": "code",
   "execution_count": null,
   "id": "bd4ef116",
   "metadata": {},
   "outputs": [],
   "source": []
  },
  {
   "cell_type": "markdown",
   "id": "00c65856",
   "metadata": {},
   "source": [
    "Task 4: Importing Caterer Data and Overview"
   ]
  },
  {
   "cell_type": "code",
   "execution_count": 31,
   "id": "0c113940",
   "metadata": {},
   "outputs": [
    {
     "name": "stdout",
     "output_type": "stream",
     "text": [
      "First few rows of the DataFrame:\n",
      "   Unnamed: 0  Plate Cost  Decoration Price  Rating Caterer Name\n",
      "0         0.0       280.0            5000.0     2.4            a\n",
      "1         1.0       420.0            4300.0     3.8            b\n",
      "2         2.0       390.0            5900.0     3.1            c\n",
      "3         3.0       420.0            6900.0     4.6            d\n",
      "4         4.0       280.0            6500.0     2.3            e\n"
     ]
    }
   ],
   "source": [
    "df2 = pd.read_excel('Caterer_info.xlsx')\n",
    "\n",
    "\n",
    "# Display the first few rows of the DataFrame to get an overview of the data\n",
    "\n",
    "print(\"First few rows of the DataFrame:\")\n",
    "\n",
    "print(df2.head())"
   ]
  },
  {
   "cell_type": "code",
   "execution_count": 32,
   "id": "3cb9f35c",
   "metadata": {},
   "outputs": [
    {
     "name": "stdout",
     "output_type": "stream",
     "text": [
      "\n",
      "Data types and missing values:\n",
      "<class 'pandas.core.frame.DataFrame'>\n",
      "RangeIndex: 20 entries, 0 to 19\n",
      "Data columns (total 5 columns):\n",
      " #   Column            Non-Null Count  Dtype  \n",
      "---  ------            --------------  -----  \n",
      " 0   Unnamed: 0        20 non-null     float64\n",
      " 1   Plate Cost        20 non-null     float64\n",
      " 2   Decoration Price  20 non-null     float64\n",
      " 3   Rating            20 non-null     float64\n",
      " 4   Caterer Name      20 non-null     object \n",
      "dtypes: float64(4), object(1)\n",
      "memory usage: 928.0+ bytes\n",
      "None\n"
     ]
    }
   ],
   "source": [
    "# Check the data types and missing values in each column\n",
    "\n",
    "print(\"\\nData types and missing values:\")\n",
    "\n",
    "print(df2.info())"
   ]
  },
  {
   "cell_type": "code",
   "execution_count": 33,
   "id": "83646179",
   "metadata": {},
   "outputs": [
    {
     "name": "stdout",
     "output_type": "stream",
     "text": [
      "\n",
      "Summary statistics for numeric columns:\n",
      "       Unnamed: 0  Plate Cost  Decoration Price     Rating\n",
      "count    20.00000   20.000000         20.000000  20.000000\n",
      "mean      9.50000  374.000000       5430.000000   3.475000\n",
      "std       5.91608   74.861275        918.866579   0.741176\n",
      "min       0.00000  250.000000       4200.000000   2.300000\n",
      "25%       4.75000  317.500000       4775.000000   3.100000\n",
      "50%       9.50000  375.000000       5200.000000   3.550000\n",
      "75%      14.25000  420.000000       6050.000000   4.000000\n",
      "max      19.00000  500.000000       7000.000000   4.800000\n"
     ]
    }
   ],
   "source": [
    "# Get summary statistics for numeric columns\n",
    "\n",
    "print(\"\\nSummary statistics for numeric columns:\")\n",
    "\n",
    "print(df2.describe())"
   ]
  },
  {
   "cell_type": "code",
   "execution_count": 34,
   "id": "c7429fd0",
   "metadata": {},
   "outputs": [
    {
     "name": "stdout",
     "output_type": "stream",
     "text": [
      "\n",
      "Number of unique values in each column:\n",
      "Unnamed: 0          20\n",
      "Plate Cost          14\n",
      "Decoration Price    13\n",
      "Rating              12\n",
      "Caterer Name        20\n",
      "dtype: int64\n"
     ]
    }
   ],
   "source": [
    "# Count the number of unique values in each column\n",
    "\n",
    "print(\"\\nNumber of unique values in each column:\")\n",
    "\n",
    "print(df2.nunique())"
   ]
  },
  {
   "cell_type": "code",
   "execution_count": 35,
   "id": "903b6172",
   "metadata": {},
   "outputs": [
    {
     "name": "stdout",
     "output_type": "stream",
     "text": [
      "\n",
      "Check unique values in Unnamed: 0 column:\n",
      "[ 0.  1.  2.  3.  4.  5.  6.  7.  8.  9. 10. 11. 12. 13. 14. 15. 16. 17.\n",
      " 18. 19.]\n",
      "\n",
      "Check unique values in Plate Cost column:\n",
      "[280. 420. 390. 360. 250. 370. 400. 380. 440. 490. 320. 480. 500. 310.]\n",
      "\n",
      "Check unique values in Decoration Price column:\n",
      "[5000. 4300. 5900. 6900. 6500. 7000. 4200. 4800. 5800. 5600. 4700. 4900.\n",
      " 5400.]\n",
      "\n",
      "Check unique values in Rating column:\n",
      "[2.4 3.8 3.1 4.6 2.3 3.3 3.4 4.  4.3 3.2 4.8 3.7]\n",
      "\n",
      "Check unique values in Caterer Name column:\n",
      "['a' 'b' 'c' 'd' 'e' 'f' 'g' 'h' 'i' 'j' 'k' 'l' 'm' 'n' 'o' 'p' 'q' 'r'\n",
      " 's' 't']\n"
     ]
    }
   ],
   "source": [
    "# Check the unique values in each column\n",
    "\n",
    "for i in df2.columns:\n",
    "\n",
    "    print(f\"\\nCheck unique values in {i} column:\")\n",
    "\n",
    "    print(df2[i].unique())"
   ]
  },
  {
   "cell_type": "code",
   "execution_count": 36,
   "id": "d2c76bd6",
   "metadata": {},
   "outputs": [
    {
     "name": "stdout",
     "output_type": "stream",
     "text": [
      "\n",
      "Missing values count in each column:\n",
      "Unnamed: 0          0\n",
      "Plate Cost          0\n",
      "Decoration Price    0\n",
      "Rating              0\n",
      "Caterer Name        0\n",
      "dtype: int64\n"
     ]
    }
   ],
   "source": [
    "# Check for missing values in the DataFrame\n",
    "\n",
    "print(\"\\nMissing values count in each column:\")\n",
    "\n",
    "print(df2.isnull().sum())"
   ]
  },
  {
   "cell_type": "code",
   "execution_count": 37,
   "id": "c9aca023",
   "metadata": {},
   "outputs": [
    {
     "name": "stdout",
     "output_type": "stream",
     "text": [
      "\\Duplicate values count in the Dataframe:\n",
      "0\n"
     ]
    }
   ],
   "source": [
    "# Check for Duplicate values in the DataFrame\n",
    "\n",
    "print(\"\\Duplicate values count in the Dataframe:\")\n",
    "\n",
    "print(df2.duplicated().sum())"
   ]
  },
  {
   "cell_type": "code",
   "execution_count": 38,
   "id": "2e641081",
   "metadata": {},
   "outputs": [
    {
     "name": "stdout",
     "output_type": "stream",
     "text": [
      "Unnamed: 0          0.0\n",
      "Plate Cost          0.0\n",
      "Decoration Price    0.0\n",
      "Rating              0.0\n",
      "Caterer Name        0.0\n",
      "dtype: float64\n"
     ]
    }
   ],
   "source": [
    "# check for missing values after replacing - with null values in the Data Frame\n",
    "\n",
    "\n",
    "print(df2.isnull().sum() *100 /df2.shape[0])"
   ]
  },
  {
   "cell_type": "code",
   "execution_count": null,
   "id": "edf3f16c",
   "metadata": {},
   "outputs": [],
   "source": []
  },
  {
   "cell_type": "code",
   "execution_count": null,
   "id": "f7b4397b",
   "metadata": {},
   "outputs": [],
   "source": []
  },
  {
   "cell_type": "markdown",
   "id": "e9812541",
   "metadata": {},
   "source": [
    "Task 5: Demographic Analysis"
   ]
  },
  {
   "cell_type": "code",
   "execution_count": 39,
   "id": "23a57073",
   "metadata": {},
   "outputs": [
    {
     "data": {
      "image/png": "[encoded data removed]",
      "text/plain": [
       "<Figure size 720x432 with 1 Axes>"
      ]
     },
     "metadata": {
      "needs_background": "light"
     },
     "output_type": "display_data"
    }
   ],
   "source": [
    "# Demographic Overview\n",
    "\n",
    "# Calculate the average number of residents per flat\n",
    "\n",
    "avg_residents_per_flat = df['No of Resident'].mean()\n",
    "\n",
    "\n",
    "# Distribution of residents by origin\n",
    "\n",
    "origin_distribution = df['Origin of Owner'].value_counts()\n",
    "\n",
    "\n",
    "# Visualization: Distribution of residents by origin\n",
    "\n",
    "plt.figure(figsize=(10, 6))\n",
    "\n",
    "sns.barplot(x=origin_distribution.index, y=origin_distribution.values)\n",
    "\n",
    "plt.title('Distribution of Residents by Origin')\n",
    "\n",
    "plt.xlabel('Origin of Owner')\n",
    "\n",
    "plt.ylabel('Count')\n",
    "\n",
    "plt.xticks(rotation=45)\n",
    "\n",
    "plt.show()"
   ]
  },
  {
   "cell_type": "code",
   "execution_count": 40,
   "id": "1b9a0114",
   "metadata": {},
   "outputs": [
    {
     "data": {
      "image/png": "[encoded data removed]",
      "text/plain": [
       "<Figure size 576x360 with 1 Axes>"
      ]
     },
     "metadata": {
      "needs_background": "light"
     },
     "output_type": "display_data"
    }
   ],
   "source": [
    "# Flat Information\n",
    "\n",
    "# Calculate the average flat area\n",
    "\n",
    "avg_flat_area = df['Flat Area (sq.mt)'].mean()\n",
    "\n",
    "\n",
    "# Find the most common number of rooms in flats\n",
    "\n",
    "most_common_rooms = df['No of Room'].mode().values[0]\n",
    "\n",
    "\n",
    "# Visualization: Flat Area Distribution\n",
    "\n",
    "plt.figure(figsize=(8, 5))\n",
    "\n",
    "sns.histplot(df['Flat Area (sq.mt)'], bins=10, kde=True)\n",
    "\n",
    "plt.title('Flat Area Distribution')\n",
    "\n",
    "plt.xlabel('Flat Area (sq.mt)')\n",
    "\n",
    "plt.ylabel('Frequency')\n",
    "\n",
    "plt.show()"
   ]
  },
  {
   "cell_type": "code",
   "execution_count": 41,
   "id": "da1f8ecb",
   "metadata": {},
   "outputs": [
    {
     "data": {
      "image/png": "[encoded data removed]",
      "text/plain": [
       "<Figure size 432x432 with 1 Axes>"
      ]
     },
     "metadata": {},
     "output_type": "display_data"
    }
   ],
   "source": [
    "# Owner and Tenant Information\n",
    "\n",
    "# Calculate the percentage of flat owners and tenants\n",
    "\n",
    "owner_percentage = (df['Tenant or owner'] == 'owner').mean() * 100\n",
    "\n",
    "tenant_percentage = (df['Tenant or owner'] == 'tenant').mean() * 100\n",
    "\n",
    "\n",
    "# Visualization: Distribution of Owner vs. Tenant\n",
    "\n",
    "plt.figure(figsize=(6, 6))\n",
    "\n",
    "plt.pie([owner_percentage, tenant_percentage], labels=['Owner', 'Tenant'], autopct='%1.1f%%')\n",
    "\n",
    "plt.title('Distribution of Flat Owners and Tenants')\n",
    "\n",
    "plt.show()"
   ]
  },
  {
   "cell_type": "code",
   "execution_count": 44,
   "id": "f3799727",
   "metadata": {},
   "outputs": [
    {
     "name": "stdout",
     "output_type": "stream",
     "text": [
      "Average Number of Residents per Flat: 4.083333333333333\n",
      "\n",
      "Average Flat Area: 554.1666666666666 sq.mt\n",
      "\n",
      "Most Common Number of Rooms in Flats: 2\n",
      "\n",
      "Percentage of Flat Owners: 60.0 %\n",
      "\n",
      "Percentage of Tenants: 40.0 %\n"
     ]
    }
   ],
   "source": [
    "# Print the calculated statistics\n",
    "\n",
    "print(\"Average Number of Residents per Flat:\", avg_residents_per_flat)\n",
    "\n",
    "print(\"\\nAverage Flat Area:\", avg_flat_area, \"sq.mt\")\n",
    "\n",
    "print(\"\\nMost Common Number of Rooms in Flats:\", most_common_rooms)\n",
    "\n",
    "print(\"\\nPercentage of Flat Owners:\", owner_percentage, \"%\")\n",
    "\n",
    "print(\"\\nPercentage of Tenants:\", tenant_percentage, \"%\")"
   ]
  },
  {
   "cell_type": "code",
   "execution_count": null,
   "id": "273d917e",
   "metadata": {},
   "outputs": [],
   "source": []
  },
  {
   "cell_type": "code",
   "execution_count": null,
   "id": "887bf5ff",
   "metadata": {},
   "outputs": [],
   "source": []
  },
  {
   "cell_type": "markdown",
   "id": "79d2e8df",
   "metadata": {},
   "source": [
    "Task 6: Optimizing Event Planning and Resident Engagement"
   ]
  },
  {
   "cell_type": "code",
   "execution_count": 45,
   "id": "6b140109",
   "metadata": {},
   "outputs": [
    {
     "data": {
      "image/png": "[encoded data removed]",
      "text/plain": [
       "<Figure size 576x432 with 1 Axes>"
      ]
     },
     "metadata": {
      "needs_background": "light"
     },
     "output_type": "display_data"
    }
   ],
   "source": [
    "# Resident Participation\n",
    "\n",
    "# Calculate the percentage of residents who confirmed participation\n",
    "\n",
    "percentage_participation = (df['Confirmed Members'] / df['No of Resident']) * 100\n",
    "\n",
    "\n",
    "# Visualization: Resident Participation by Flat Type\n",
    "\n",
    "plt.figure(figsize=(8, 6))\n",
    "\n",
    "sns.boxplot(x='Tenant or owner', y=percentage_participation, data=df)\n",
    "\n",
    "plt.title('Resident Participation by Flat Type')\n",
    "\n",
    "plt.xlabel('Flat Type (Owner/Tenant)')\n",
    "\n",
    "plt.ylabel('Percentage of Participation')\n",
    "\n",
    "plt.show()"
   ]
  },
  {
   "cell_type": "code",
   "execution_count": 46,
   "id": "8a5655f5",
   "metadata": {},
   "outputs": [],
   "source": [
    "# Donations Analysis\n",
    "\n",
    "# Calculate the average donation amount\n",
    "\n",
    "avg_donation_amount = df['Donation'].mean()\n",
    "\n",
    "\n",
    "# Calculate the total donation amount collected\n",
    "\n",
    "total_donation_amount = df['Donation'].sum()"
   ]
  },
  {
   "cell_type": "code",
   "execution_count": 47,
   "id": "56579aa2",
   "metadata": {},
   "outputs": [],
   "source": [
    "# Event Planning Recommendations\n",
    "\n",
    "# Recommendations for event planning based on data analysis\n",
    "\n",
    "recommendations = []\n",
    "\n",
    "if avg_donation_amount >= 5000:\n",
    "\n",
    "    recommendations.append(\"Consider a higher budget for the event.\")\n",
    "\n",
    "else:\n",
    "\n",
    "    recommendations.append(\"Budget allocation may be optimized based on donations.\")\n",
    "\n",
    "if percentage_participation.mean() >= 70:\n",
    "\n",
    "    recommendations.append(\"Expect a good turnout for the event.\")\n",
    "\n",
    "else:\n",
    "\n",
    "    recommendations.append(\"Engage in more outreach to boost participation.\")\n",
    "\n",
    "if total_donation_amount >= 50000:\n",
    "\n",
    "    recommendations.append(\"Sufficient funds are available for event planning.\")\n",
    "\n",
    "else:\n",
    "\n",
    "    recommendations.append(\"Consider additional fundraising efforts.\")"
   ]
  },
  {
   "cell_type": "code",
   "execution_count": 48,
   "id": "5ebffb5c",
   "metadata": {},
   "outputs": [
    {
     "name": "stdout",
     "output_type": "stream",
     "text": [
      "Percentage of Residents' Participation in the Event:\n",
      "0     100.000000\n",
      "1     120.000000\n",
      "2      60.000000\n",
      "3      50.000000\n",
      "4     214.285714\n",
      "5     100.000000\n",
      "6     100.000000\n",
      "7     100.000000\n",
      "8      40.000000\n",
      "9      60.000000\n",
      "10     50.000000\n",
      "11    285.714286\n",
      "12    100.000000\n",
      "13    100.000000\n",
      "14     75.000000\n",
      "15     66.666667\n",
      "16     66.666667\n",
      "17     50.000000\n",
      "18     80.000000\n",
      "19     66.666667\n",
      "20     75.000000\n",
      "21     75.000000\n",
      "22     80.000000\n",
      "23     75.000000\n",
      "24     66.666667\n",
      "25     75.000000\n",
      "26     60.000000\n",
      "27     50.000000\n",
      "28     33.333333\n",
      "29    100.000000\n",
      "30    100.000000\n",
      "31    220.000000\n",
      "32     75.000000\n",
      "33     66.666667\n",
      "34     50.000000\n",
      "35    100.000000\n",
      "36     75.000000\n",
      "37     80.000000\n",
      "38     66.666667\n",
      "39    100.000000\n",
      "40    180.000000\n",
      "41     80.000000\n",
      "42     75.000000\n",
      "43     66.666667\n",
      "44     50.000000\n",
      "45     75.000000\n",
      "46     75.000000\n",
      "47      0.000000\n",
      "48      0.000000\n",
      "49     66.666667\n",
      "50    100.000000\n",
      "51     80.000000\n",
      "52    100.000000\n",
      "53    166.666667\n",
      "54    150.000000\n",
      "55     33.333333\n",
      "56    100.000000\n",
      "57     40.000000\n",
      "58     66.666667\n",
      "59    200.000000\n",
      "dtype: float64\n",
      "\n",
      "Average Donation Amount: 4000.0\n",
      "Total Donation Amount Collected: 240000.0\n",
      "\n",
      "Event Planning Recommendations:\n",
      "- Budget allocation may be optimized based on donations.\n",
      "- Expect a good turnout for the event.\n",
      "- Sufficient funds are available for event planning.\n"
     ]
    }
   ],
   "source": [
    "# Print the calculated statistics and recommendations\n",
    "\n",
    "print(\"Percentage of Residents' Participation in the Event:\")\n",
    "\n",
    "print(percentage_participation)\n",
    "\n",
    "print(\"\\nAverage Donation Amount:\", avg_donation_amount)\n",
    "\n",
    "print(\"Total Donation Amount Collected:\", total_donation_amount)\n",
    "\n",
    "print(\"\\nEvent Planning Recommendations:\")\n",
    "\n",
    "for recommendation in recommendations:\n",
    "\n",
    "\n",
    "    print(\"- \" + recommendation)"
   ]
  },
  {
   "cell_type": "code",
   "execution_count": null,
   "id": "fbb433a9",
   "metadata": {},
   "outputs": [],
   "source": []
  },
  {
   "cell_type": "code",
   "execution_count": null,
   "id": "4201a75d",
   "metadata": {},
   "outputs": [],
   "source": []
  },
  {
   "cell_type": "markdown",
   "id": "93550a2d",
   "metadata": {},
   "source": [
    "Task 7: Decorator and Caterer Analysis for Grand Housing Society Event"
   ]
  },
  {
   "cell_type": "code",
   "execution_count": 49,
   "id": "de058faf",
   "metadata": {},
   "outputs": [],
   "source": [
    "# Decorator Analysis\n",
    "\n",
    "# Identify the decorator with the highest rating\n",
    "\n",
    "highest_rated_decorator = df2[df2['Rating'] == df2['Rating'].max()]\n",
    "\n",
    "\n",
    "# Identify the most cost-effective decorator based on decoration price\n",
    "\n",
    "cost_effective_decorator = df2[df2['Decoration Price'] == df2['Decoration Price'].min()]"
   ]
  },
  {
   "cell_type": "code",
   "execution_count": 50,
   "id": "3352d399",
   "metadata": {},
   "outputs": [],
   "source": [
    "# Caterer Analysis\n",
    "\n",
    "# Identify the caterer with the highest rating\n",
    "\n",
    "highest_rated_caterer = df2[df2['Rating'] == df2['Rating'].max()]\n",
    "\n",
    "\n",
    "# Identify the most cost-effective caterer based on plate cost\n",
    "\n",
    "cost_effective_caterer = df2[df2['Plate Cost'] == df2['Plate Cost'].min()]"
   ]
  },
  {
   "cell_type": "code",
   "execution_count": 51,
   "id": "2e4a40a2",
   "metadata": {},
   "outputs": [],
   "source": [
    "# Caterer and Decorator Recommendations\n",
    "\n",
    "# Recommendations for selecting the best caterer and decorator\n",
    "\n",
    "decorator_recommendation = f\"The highest-rated decorator is '{highest_rated_decorator['Caterer Name'].values[0]}' with a rating of {highest_rated_decorator['Rating'].values[0]}.\"\n",
    "\n",
    "caterer_recommendation = f\"The most cost-effective caterer is '{cost_effective_caterer['Caterer Name'].values[0]}' with a plate cost of {cost_effective_caterer['Plate Cost'].values[0]}.\""
   ]
  },
  {
   "cell_type": "code",
   "execution_count": 52,
   "id": "26093418",
   "metadata": {},
   "outputs": [
    {
     "name": "stdout",
     "output_type": "stream",
     "text": [
      "Decorator Analysis:\n",
      "Decorator with Highest Rating:\n",
      "    Unnamed: 0  Plate Cost  Decoration Price  Rating Caterer Name\n",
      "15        15.0       320.0            5400.0     4.8            p\n",
      "\n",
      "Most Cost-Effective Decorator:\n",
      "   Unnamed: 0  Plate Cost  Decoration Price  Rating Caterer Name\n",
      "6         6.0       250.0            4200.0     3.4            g\n",
      "\n",
      "Caterer Analysis:\n",
      "Caterer with Highest Rating:\n",
      "    Unnamed: 0  Plate Cost  Decoration Price  Rating Caterer Name\n",
      "15        15.0       320.0            5400.0     4.8            p\n",
      "\n",
      "Most Cost-Effective Caterer:\n",
      "    Unnamed: 0  Plate Cost  Decoration Price  Rating Caterer Name\n",
      "6          6.0       250.0            4200.0     3.4            g\n",
      "12        12.0       250.0            5000.0     4.3            m\n",
      "\n",
      "Caterer and Decorator Recommendations:\n",
      "The highest-rated decorator is 'p' with a rating of 4.8.\n",
      "The most cost-effective caterer is 'g' with a plate cost of 250.0.\n"
     ]
    }
   ],
   "source": [
    "# Print the analysis results and recommendations\n",
    "\n",
    "print(\"Decorator Analysis:\")\n",
    "\n",
    "print(\"Decorator with Highest Rating:\")\n",
    "\n",
    "print(highest_rated_decorator)\n",
    "\n",
    "print(\"\\nMost Cost-Effective Decorator:\")\n",
    "\n",
    "print(cost_effective_decorator)\n",
    "\n",
    "print(\"\\nCaterer Analysis:\")\n",
    "\n",
    "print(\"Caterer with Highest Rating:\")\n",
    "\n",
    "print(highest_rated_caterer)\n",
    "\n",
    "print(\"\\nMost Cost-Effective Caterer:\")\n",
    "\n",
    "print(cost_effective_caterer)\n",
    "\n",
    "print(\"\\nCaterer and Decorator Recommendations:\")\n",
    "\n",
    "print(decorator_recommendation)\n",
    "\n",
    "\n",
    "print(caterer_recommendation)"
   ]
  },
  {
   "cell_type": "code",
   "execution_count": null,
   "id": "0219788c",
   "metadata": {},
   "outputs": [],
   "source": []
  }
 ],
 "metadata": {
  "kernelspec": {
   "display_name": "Python 3 (ipykernel)",
   "language": "python",
   "name": "python3"
  },
  "language_info": {
   "codemirror_mode": {
    "name": "ipython",
    "version": 3
   },
   "file_extension": ".py",
   "mimetype": "text/x-python",
   "name": "python",
   "nbconvert_exporter": "python",
   "pygments_lexer": "ipython3",
   "version": "3.9.7"
  }
 },
 "nbformat": 4,
 "nbformat_minor": 5
}
